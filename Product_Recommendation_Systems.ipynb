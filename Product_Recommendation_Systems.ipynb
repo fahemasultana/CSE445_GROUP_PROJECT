{
 "cells": [
  {
   "cell_type": "code",
   "execution_count": 39,
   "metadata": {
    "colab": {
     "base_uri": "https://localhost:8080/",
     "height": 252
    },
    "colab_type": "code",
    "id": "cYBCOR9adeIQ",
    "outputId": "901df10c-ca5f-4345-be06-21cd4a844441",
    "scrolled": true
   },
   "outputs": [
    {
     "name": "stdout",
     "output_type": "stream",
     "text": [
      "Collecting package metadata (current_repodata.json): done\n",
      "Solving environment: done\n",
      "\n",
      "# All requested packages already installed.\n",
      "\n",
      "\n",
      "Note: you may need to restart the kernel to use updated packages.\n"
     ]
    }
   ],
   "source": [
    "# conda install -c conda-forge scikit-surprise"
   ]
  },
  {
   "cell_type": "markdown",
   "metadata": {
    "colab_type": "text",
    "id": "uRRjOGBSFSqI"
   },
   "source": [
    "**Import all required libraries**"
   ]
  },
  {
   "cell_type": "code",
   "execution_count": 40,
   "metadata": {
    "colab": {},
    "colab_type": "code",
    "id": "hlsgwittUOir"
   },
   "outputs": [],
   "source": [
    "%matplotlib inline\n",
    "import numpy as np\n",
    "import pandas as pd\n",
    "from matplotlib import pyplot as plt\n",
    "import seaborn as sns\n",
    "import warnings\n",
    "warnings.filterwarnings('ignore')\n",
    "from sklearn import metrics\n",
    "from surprise import Reader\n",
    "from surprise import SVD\n",
    "from surprise import Dataset\n",
    "from surprise.model_selection import cross_validate\n",
    "from surprise.model_selection import train_test_split # # Import Surprise package's data splitting function\n",
    "from surprise import accuracy\n",
    "from surprise.model_selection import GridSearchCV\n",
    "from surprise import KNNBasic\n",
    "from surprise import KNNWithMeans"
   ]
  },
  {
   "cell_type": "markdown",
   "metadata": {
    "colab_type": "text",
    "id": "qjfx1C0GFZfw"
   },
   "source": [
    "**Mount the drive**"
   ]
  },
  {
   "cell_type": "markdown",
   "metadata": {
    "colab_type": "text",
    "id": "_4CbOIT4FdG9"
   },
   "source": [
    "**Assign the column names and load the dataset**"
   ]
  },
  {
   "cell_type": "code",
   "execution_count": 47,
   "metadata": {
    "colab": {
     "base_uri": "https://localhost:8080/",
     "height": 935
    },
    "colab_type": "code",
    "id": "GxlUrVT0URg7",
    "outputId": "0538247b-9286-4575-dae4-364eac18a247"
   },
   "outputs": [
    {
     "data": {
      "text/html": [
       "<div>\n",
       "<style scoped>\n",
       "    .dataframe tbody tr th:only-of-type {\n",
       "        vertical-align: middle;\n",
       "    }\n",
       "\n",
       "    .dataframe tbody tr th {\n",
       "        vertical-align: top;\n",
       "    }\n",
       "\n",
       "    .dataframe thead th {\n",
       "        text-align: right;\n",
       "    }\n",
       "</style>\n",
       "<table border=\"1\" class=\"dataframe\">\n",
       "  <thead>\n",
       "    <tr style=\"text-align: right;\">\n",
       "      <th></th>\n",
       "      <th>UserId</th>\n",
       "      <th>ProductId</th>\n",
       "      <th>Rating</th>\n",
       "      <th>Timestamp</th>\n",
       "    </tr>\n",
       "  </thead>\n",
       "  <tbody>\n",
       "    <tr>\n",
       "      <th>0</th>\n",
       "      <td>A39HTATAQ9V7YF</td>\n",
       "      <td>0205616461</td>\n",
       "      <td>5.0</td>\n",
       "      <td>1369699200</td>\n",
       "    </tr>\n",
       "    <tr>\n",
       "      <th>1</th>\n",
       "      <td>A3JM6GV9MNOF9X</td>\n",
       "      <td>0558925278</td>\n",
       "      <td>3.0</td>\n",
       "      <td>1355443200</td>\n",
       "    </tr>\n",
       "    <tr>\n",
       "      <th>2</th>\n",
       "      <td>A1Z513UWSAAO0F</td>\n",
       "      <td>0558925278</td>\n",
       "      <td>5.0</td>\n",
       "      <td>1404691200</td>\n",
       "    </tr>\n",
       "    <tr>\n",
       "      <th>3</th>\n",
       "      <td>A1WMRR494NWEWV</td>\n",
       "      <td>0733001998</td>\n",
       "      <td>4.0</td>\n",
       "      <td>1382572800</td>\n",
       "    </tr>\n",
       "    <tr>\n",
       "      <th>4</th>\n",
       "      <td>A3IAAVS479H7M7</td>\n",
       "      <td>0737104473</td>\n",
       "      <td>1.0</td>\n",
       "      <td>1274227200</td>\n",
       "    </tr>\n",
       "    <tr>\n",
       "      <th>5</th>\n",
       "      <td>AKJHHD5VEH7VG</td>\n",
       "      <td>0762451459</td>\n",
       "      <td>5.0</td>\n",
       "      <td>1404518400</td>\n",
       "    </tr>\n",
       "    <tr>\n",
       "      <th>6</th>\n",
       "      <td>A1BG8QW55XHN6U</td>\n",
       "      <td>1304139212</td>\n",
       "      <td>5.0</td>\n",
       "      <td>1371945600</td>\n",
       "    </tr>\n",
       "    <tr>\n",
       "      <th>7</th>\n",
       "      <td>A22VW0P4VZHDE3</td>\n",
       "      <td>1304139220</td>\n",
       "      <td>5.0</td>\n",
       "      <td>1373068800</td>\n",
       "    </tr>\n",
       "    <tr>\n",
       "      <th>8</th>\n",
       "      <td>A3V3RE4132GKRO</td>\n",
       "      <td>130414089X</td>\n",
       "      <td>5.0</td>\n",
       "      <td>1401840000</td>\n",
       "    </tr>\n",
       "    <tr>\n",
       "      <th>9</th>\n",
       "      <td>A327B0I7CYTEJC</td>\n",
       "      <td>130414643X</td>\n",
       "      <td>4.0</td>\n",
       "      <td>1389052800</td>\n",
       "    </tr>\n",
       "    <tr>\n",
       "      <th>10</th>\n",
       "      <td>A1BG8QW55XHN6U</td>\n",
       "      <td>130414643X</td>\n",
       "      <td>5.0</td>\n",
       "      <td>1372032000</td>\n",
       "    </tr>\n",
       "    <tr>\n",
       "      <th>11</th>\n",
       "      <td>AIFAAVTUYHEHB</td>\n",
       "      <td>130414643X</td>\n",
       "      <td>4.0</td>\n",
       "      <td>1378252800</td>\n",
       "    </tr>\n",
       "    <tr>\n",
       "      <th>12</th>\n",
       "      <td>AVOGV98AYOFG2</td>\n",
       "      <td>1304146537</td>\n",
       "      <td>5.0</td>\n",
       "      <td>1372118400</td>\n",
       "    </tr>\n",
       "    <tr>\n",
       "      <th>13</th>\n",
       "      <td>A22VW0P4VZHDE3</td>\n",
       "      <td>130414674X</td>\n",
       "      <td>5.0</td>\n",
       "      <td>1371686400</td>\n",
       "    </tr>\n",
       "    <tr>\n",
       "      <th>14</th>\n",
       "      <td>AVOGV98AYOFG2</td>\n",
       "      <td>1304168522</td>\n",
       "      <td>5.0</td>\n",
       "      <td>1372118400</td>\n",
       "    </tr>\n",
       "    <tr>\n",
       "      <th>15</th>\n",
       "      <td>A6R426V4J7AOM</td>\n",
       "      <td>1304168522</td>\n",
       "      <td>5.0</td>\n",
       "      <td>1373414400</td>\n",
       "    </tr>\n",
       "    <tr>\n",
       "      <th>16</th>\n",
       "      <td>A22VW0P4VZHDE3</td>\n",
       "      <td>1304174778</td>\n",
       "      <td>5.0</td>\n",
       "      <td>1372896000</td>\n",
       "    </tr>\n",
       "    <tr>\n",
       "      <th>17</th>\n",
       "      <td>AKGB62WGF35J8</td>\n",
       "      <td>1304174778</td>\n",
       "      <td>5.0</td>\n",
       "      <td>1372896000</td>\n",
       "    </tr>\n",
       "    <tr>\n",
       "      <th>18</th>\n",
       "      <td>A22VW0P4VZHDE3</td>\n",
       "      <td>1304174867</td>\n",
       "      <td>5.0</td>\n",
       "      <td>1373068800</td>\n",
       "    </tr>\n",
       "    <tr>\n",
       "      <th>19</th>\n",
       "      <td>A1BG8QW55XHN6U</td>\n",
       "      <td>1304174867</td>\n",
       "      <td>5.0</td>\n",
       "      <td>1372291200</td>\n",
       "    </tr>\n",
       "    <tr>\n",
       "      <th>20</th>\n",
       "      <td>A1BG8QW55XHN6U</td>\n",
       "      <td>1304174905</td>\n",
       "      <td>5.0</td>\n",
       "      <td>1372291200</td>\n",
       "    </tr>\n",
       "    <tr>\n",
       "      <th>21</th>\n",
       "      <td>A22VW0P4VZHDE3</td>\n",
       "      <td>1304196046</td>\n",
       "      <td>5.0</td>\n",
       "      <td>1372896000</td>\n",
       "    </tr>\n",
       "    <tr>\n",
       "      <th>22</th>\n",
       "      <td>A22VW0P4VZHDE3</td>\n",
       "      <td>1304196062</td>\n",
       "      <td>5.0</td>\n",
       "      <td>1372896000</td>\n",
       "    </tr>\n",
       "    <tr>\n",
       "      <th>23</th>\n",
       "      <td>A3A4C2K3TWDAO5</td>\n",
       "      <td>1304196070</td>\n",
       "      <td>1.0</td>\n",
       "      <td>1378425600</td>\n",
       "    </tr>\n",
       "    <tr>\n",
       "      <th>24</th>\n",
       "      <td>A3FV2Q7WPZMQPV</td>\n",
       "      <td>1304196135</td>\n",
       "      <td>5.0</td>\n",
       "      <td>1375488000</td>\n",
       "    </tr>\n",
       "    <tr>\n",
       "      <th>25</th>\n",
       "      <td>A22VW0P4VZHDE3</td>\n",
       "      <td>1304196135</td>\n",
       "      <td>5.0</td>\n",
       "      <td>1372896000</td>\n",
       "    </tr>\n",
       "    <tr>\n",
       "      <th>26</th>\n",
       "      <td>A1RXI3A1E99112</td>\n",
       "      <td>1304351475</td>\n",
       "      <td>5.0</td>\n",
       "      <td>1405296000</td>\n",
       "    </tr>\n",
       "    <tr>\n",
       "      <th>27</th>\n",
       "      <td>A26QL1FBQO9C0E</td>\n",
       "      <td>1304351475</td>\n",
       "      <td>5.0</td>\n",
       "      <td>1392076800</td>\n",
       "    </tr>\n",
       "    <tr>\n",
       "      <th>28</th>\n",
       "      <td>A19KEEVZYO1KO6</td>\n",
       "      <td>1304351475</td>\n",
       "      <td>4.0</td>\n",
       "      <td>1388707200</td>\n",
       "    </tr>\n",
       "    <tr>\n",
       "      <th>29</th>\n",
       "      <td>A1F6HRR58TQ2R0</td>\n",
       "      <td>1304351475</td>\n",
       "      <td>5.0</td>\n",
       "      <td>1394928000</td>\n",
       "    </tr>\n",
       "  </tbody>\n",
       "</table>\n",
       "</div>"
      ],
      "text/plain": [
       "            UserId   ProductId  Rating   Timestamp\n",
       "0   A39HTATAQ9V7YF  0205616461     5.0  1369699200\n",
       "1   A3JM6GV9MNOF9X  0558925278     3.0  1355443200\n",
       "2   A1Z513UWSAAO0F  0558925278     5.0  1404691200\n",
       "3   A1WMRR494NWEWV  0733001998     4.0  1382572800\n",
       "4   A3IAAVS479H7M7  0737104473     1.0  1274227200\n",
       "5    AKJHHD5VEH7VG  0762451459     5.0  1404518400\n",
       "6   A1BG8QW55XHN6U  1304139212     5.0  1371945600\n",
       "7   A22VW0P4VZHDE3  1304139220     5.0  1373068800\n",
       "8   A3V3RE4132GKRO  130414089X     5.0  1401840000\n",
       "9   A327B0I7CYTEJC  130414643X     4.0  1389052800\n",
       "10  A1BG8QW55XHN6U  130414643X     5.0  1372032000\n",
       "11   AIFAAVTUYHEHB  130414643X     4.0  1378252800\n",
       "12   AVOGV98AYOFG2  1304146537     5.0  1372118400\n",
       "13  A22VW0P4VZHDE3  130414674X     5.0  1371686400\n",
       "14   AVOGV98AYOFG2  1304168522     5.0  1372118400\n",
       "15   A6R426V4J7AOM  1304168522     5.0  1373414400\n",
       "16  A22VW0P4VZHDE3  1304174778     5.0  1372896000\n",
       "17   AKGB62WGF35J8  1304174778     5.0  1372896000\n",
       "18  A22VW0P4VZHDE3  1304174867     5.0  1373068800\n",
       "19  A1BG8QW55XHN6U  1304174867     5.0  1372291200\n",
       "20  A1BG8QW55XHN6U  1304174905     5.0  1372291200\n",
       "21  A22VW0P4VZHDE3  1304196046     5.0  1372896000\n",
       "22  A22VW0P4VZHDE3  1304196062     5.0  1372896000\n",
       "23  A3A4C2K3TWDAO5  1304196070     1.0  1378425600\n",
       "24  A3FV2Q7WPZMQPV  1304196135     5.0  1375488000\n",
       "25  A22VW0P4VZHDE3  1304196135     5.0  1372896000\n",
       "26  A1RXI3A1E99112  1304351475     5.0  1405296000\n",
       "27  A26QL1FBQO9C0E  1304351475     5.0  1392076800\n",
       "28  A19KEEVZYO1KO6  1304351475     4.0  1388707200\n",
       "29  A1F6HRR58TQ2R0  1304351475     5.0  1394928000"
      ]
     },
     "execution_count": 47,
     "metadata": {},
     "output_type": "execute_result"
    }
   ],
   "source": [
    "\n",
    "colnames = [\"userId\", \"productId\", \"Rating\", \"timestamp\"]\n",
    "df = pd.read_csv(\"ratings_Beauty.csv\")\n",
    "df.head(30)"
   ]
  },
  {
   "cell_type": "markdown",
   "metadata": {
    "colab_type": "text",
    "id": "CL4AiPSOFk97"
   },
   "source": [
    "**Analyse the given data**"
   ]
  },
  {
   "cell_type": "code",
   "execution_count": 48,
   "metadata": {
    "colab": {
     "base_uri": "https://localhost:8080/",
     "height": 935
    },
    "colab_type": "code",
    "id": "F6ZN-wT6VfQV",
    "outputId": "90f24d76-b528-4745-859e-f005ff1ea90c"
   },
   "outputs": [
    {
     "data": {
      "text/html": [
       "<div>\n",
       "<style scoped>\n",
       "    .dataframe tbody tr th:only-of-type {\n",
       "        vertical-align: middle;\n",
       "    }\n",
       "\n",
       "    .dataframe tbody tr th {\n",
       "        vertical-align: top;\n",
       "    }\n",
       "\n",
       "    .dataframe thead th {\n",
       "        text-align: right;\n",
       "    }\n",
       "</style>\n",
       "<table border=\"1\" class=\"dataframe\">\n",
       "  <thead>\n",
       "    <tr style=\"text-align: right;\">\n",
       "      <th></th>\n",
       "      <th>UserId</th>\n",
       "      <th>ProductId</th>\n",
       "      <th>Rating</th>\n",
       "      <th>Timestamp</th>\n",
       "    </tr>\n",
       "  </thead>\n",
       "  <tbody>\n",
       "    <tr>\n",
       "      <th>2023040</th>\n",
       "      <td>A14XVBP38Z8HIY</td>\n",
       "      <td>B00LLPT4HI</td>\n",
       "      <td>5.0</td>\n",
       "      <td>1405555200</td>\n",
       "    </tr>\n",
       "    <tr>\n",
       "      <th>2023041</th>\n",
       "      <td>A3JJ53IS8XISMT</td>\n",
       "      <td>B00LLPT4HI</td>\n",
       "      <td>5.0</td>\n",
       "      <td>1405900800</td>\n",
       "    </tr>\n",
       "    <tr>\n",
       "      <th>2023042</th>\n",
       "      <td>A3LGT6UZL99IW1</td>\n",
       "      <td>B00LLPT4HI</td>\n",
       "      <td>5.0</td>\n",
       "      <td>1405382400</td>\n",
       "    </tr>\n",
       "    <tr>\n",
       "      <th>2023043</th>\n",
       "      <td>ASKZO80Z1RKTR</td>\n",
       "      <td>B00LLPT4HI</td>\n",
       "      <td>5.0</td>\n",
       "      <td>1405209600</td>\n",
       "    </tr>\n",
       "    <tr>\n",
       "      <th>2023044</th>\n",
       "      <td>A1A7EBY8XJ46PA</td>\n",
       "      <td>B00LLPT4HI</td>\n",
       "      <td>5.0</td>\n",
       "      <td>1405728000</td>\n",
       "    </tr>\n",
       "    <tr>\n",
       "      <th>2023045</th>\n",
       "      <td>A1HQ0KTGWQIWYI</td>\n",
       "      <td>B00LLPT4HI</td>\n",
       "      <td>5.0</td>\n",
       "      <td>1405900800</td>\n",
       "    </tr>\n",
       "    <tr>\n",
       "      <th>2023046</th>\n",
       "      <td>A3UJRNI8UR4871</td>\n",
       "      <td>B00LLPT4HI</td>\n",
       "      <td>5.0</td>\n",
       "      <td>1405987200</td>\n",
       "    </tr>\n",
       "    <tr>\n",
       "      <th>2023047</th>\n",
       "      <td>AZ9JPUSCI0V49</td>\n",
       "      <td>B00LMOT7X4</td>\n",
       "      <td>3.0</td>\n",
       "      <td>1404950400</td>\n",
       "    </tr>\n",
       "    <tr>\n",
       "      <th>2023048</th>\n",
       "      <td>A3DEHKPFANB8VA</td>\n",
       "      <td>B00LMWUR9O</td>\n",
       "      <td>5.0</td>\n",
       "      <td>1405555200</td>\n",
       "    </tr>\n",
       "    <tr>\n",
       "      <th>2023049</th>\n",
       "      <td>A30JSH9DQY3PB0</td>\n",
       "      <td>B00LMXHR1Y</td>\n",
       "      <td>5.0</td>\n",
       "      <td>1404950400</td>\n",
       "    </tr>\n",
       "    <tr>\n",
       "      <th>2023050</th>\n",
       "      <td>A3DEHKPFANB8VA</td>\n",
       "      <td>B00LMXHR1Y</td>\n",
       "      <td>5.0</td>\n",
       "      <td>1405296000</td>\n",
       "    </tr>\n",
       "    <tr>\n",
       "      <th>2023051</th>\n",
       "      <td>AU8FV7C2UFVKR</td>\n",
       "      <td>B00LNOKBYW</td>\n",
       "      <td>5.0</td>\n",
       "      <td>1405468800</td>\n",
       "    </tr>\n",
       "    <tr>\n",
       "      <th>2023052</th>\n",
       "      <td>A1K3QII0DFSTV2</td>\n",
       "      <td>B00LNOKBYW</td>\n",
       "      <td>5.0</td>\n",
       "      <td>1405728000</td>\n",
       "    </tr>\n",
       "    <tr>\n",
       "      <th>2023053</th>\n",
       "      <td>A2UEVIIDLL6J4L</td>\n",
       "      <td>B00LNOKBYW</td>\n",
       "      <td>5.0</td>\n",
       "      <td>1405900800</td>\n",
       "    </tr>\n",
       "    <tr>\n",
       "      <th>2023054</th>\n",
       "      <td>ADQ41IJPQW2TN</td>\n",
       "      <td>B00LNOKBYW</td>\n",
       "      <td>5.0</td>\n",
       "      <td>1405728000</td>\n",
       "    </tr>\n",
       "    <tr>\n",
       "      <th>2023055</th>\n",
       "      <td>A1NQACPQ21C8AX</td>\n",
       "      <td>B00LNOKBYW</td>\n",
       "      <td>5.0</td>\n",
       "      <td>1405728000</td>\n",
       "    </tr>\n",
       "    <tr>\n",
       "      <th>2023056</th>\n",
       "      <td>A2C60HR7WQW9RX</td>\n",
       "      <td>B00LNOKBYW</td>\n",
       "      <td>5.0</td>\n",
       "      <td>1405728000</td>\n",
       "    </tr>\n",
       "    <tr>\n",
       "      <th>2023057</th>\n",
       "      <td>A1IO9HRIA7ZJGU</td>\n",
       "      <td>B00LNOKBYW</td>\n",
       "      <td>5.0</td>\n",
       "      <td>1405555200</td>\n",
       "    </tr>\n",
       "    <tr>\n",
       "      <th>2023058</th>\n",
       "      <td>A1SJD7QDROVPCC</td>\n",
       "      <td>B00LNOKBYW</td>\n",
       "      <td>5.0</td>\n",
       "      <td>1405296000</td>\n",
       "    </tr>\n",
       "    <tr>\n",
       "      <th>2023059</th>\n",
       "      <td>AFPRQT3V8C1U1</td>\n",
       "      <td>B00LNOKBYW</td>\n",
       "      <td>5.0</td>\n",
       "      <td>1405468800</td>\n",
       "    </tr>\n",
       "    <tr>\n",
       "      <th>2023060</th>\n",
       "      <td>A3EN0JCMEML724</td>\n",
       "      <td>B00LNOKBYW</td>\n",
       "      <td>5.0</td>\n",
       "      <td>1405641600</td>\n",
       "    </tr>\n",
       "    <tr>\n",
       "      <th>2023061</th>\n",
       "      <td>A1RYQPQ01T5D5R</td>\n",
       "      <td>B00LNOKBYW</td>\n",
       "      <td>5.0</td>\n",
       "      <td>1406073600</td>\n",
       "    </tr>\n",
       "    <tr>\n",
       "      <th>2023062</th>\n",
       "      <td>A3MQDRRGC9070R</td>\n",
       "      <td>B00LNOKBYW</td>\n",
       "      <td>5.0</td>\n",
       "      <td>1405987200</td>\n",
       "    </tr>\n",
       "    <tr>\n",
       "      <th>2023063</th>\n",
       "      <td>A2LB743IV4NS2W</td>\n",
       "      <td>B00LNOKBYW</td>\n",
       "      <td>5.0</td>\n",
       "      <td>1405555200</td>\n",
       "    </tr>\n",
       "    <tr>\n",
       "      <th>2023064</th>\n",
       "      <td>A1YSYUGR6XRMIW</td>\n",
       "      <td>B00LNOKBYW</td>\n",
       "      <td>5.0</td>\n",
       "      <td>1405382400</td>\n",
       "    </tr>\n",
       "    <tr>\n",
       "      <th>2023065</th>\n",
       "      <td>A3DEHKPFANB8VA</td>\n",
       "      <td>B00LORWRJA</td>\n",
       "      <td>5.0</td>\n",
       "      <td>1405296000</td>\n",
       "    </tr>\n",
       "    <tr>\n",
       "      <th>2023066</th>\n",
       "      <td>A3DEHKPFANB8VA</td>\n",
       "      <td>B00LOS7MEE</td>\n",
       "      <td>5.0</td>\n",
       "      <td>1405296000</td>\n",
       "    </tr>\n",
       "    <tr>\n",
       "      <th>2023067</th>\n",
       "      <td>AG9TJLJUN5OM3</td>\n",
       "      <td>B00LP2YB8E</td>\n",
       "      <td>5.0</td>\n",
       "      <td>1405382400</td>\n",
       "    </tr>\n",
       "    <tr>\n",
       "      <th>2023068</th>\n",
       "      <td>AYBIB14QOI9PC</td>\n",
       "      <td>B00LPVG6V0</td>\n",
       "      <td>5.0</td>\n",
       "      <td>1405555200</td>\n",
       "    </tr>\n",
       "    <tr>\n",
       "      <th>2023069</th>\n",
       "      <td>A1PB6OT0OOPKNQ</td>\n",
       "      <td>B00LU0LTOU</td>\n",
       "      <td>5.0</td>\n",
       "      <td>1405641600</td>\n",
       "    </tr>\n",
       "  </tbody>\n",
       "</table>\n",
       "</div>"
      ],
      "text/plain": [
       "                 UserId   ProductId  Rating   Timestamp\n",
       "2023040  A14XVBP38Z8HIY  B00LLPT4HI     5.0  1405555200\n",
       "2023041  A3JJ53IS8XISMT  B00LLPT4HI     5.0  1405900800\n",
       "2023042  A3LGT6UZL99IW1  B00LLPT4HI     5.0  1405382400\n",
       "2023043   ASKZO80Z1RKTR  B00LLPT4HI     5.0  1405209600\n",
       "2023044  A1A7EBY8XJ46PA  B00LLPT4HI     5.0  1405728000\n",
       "2023045  A1HQ0KTGWQIWYI  B00LLPT4HI     5.0  1405900800\n",
       "2023046  A3UJRNI8UR4871  B00LLPT4HI     5.0  1405987200\n",
       "2023047   AZ9JPUSCI0V49  B00LMOT7X4     3.0  1404950400\n",
       "2023048  A3DEHKPFANB8VA  B00LMWUR9O     5.0  1405555200\n",
       "2023049  A30JSH9DQY3PB0  B00LMXHR1Y     5.0  1404950400\n",
       "2023050  A3DEHKPFANB8VA  B00LMXHR1Y     5.0  1405296000\n",
       "2023051   AU8FV7C2UFVKR  B00LNOKBYW     5.0  1405468800\n",
       "2023052  A1K3QII0DFSTV2  B00LNOKBYW     5.0  1405728000\n",
       "2023053  A2UEVIIDLL6J4L  B00LNOKBYW     5.0  1405900800\n",
       "2023054   ADQ41IJPQW2TN  B00LNOKBYW     5.0  1405728000\n",
       "2023055  A1NQACPQ21C8AX  B00LNOKBYW     5.0  1405728000\n",
       "2023056  A2C60HR7WQW9RX  B00LNOKBYW     5.0  1405728000\n",
       "2023057  A1IO9HRIA7ZJGU  B00LNOKBYW     5.0  1405555200\n",
       "2023058  A1SJD7QDROVPCC  B00LNOKBYW     5.0  1405296000\n",
       "2023059   AFPRQT3V8C1U1  B00LNOKBYW     5.0  1405468800\n",
       "2023060  A3EN0JCMEML724  B00LNOKBYW     5.0  1405641600\n",
       "2023061  A1RYQPQ01T5D5R  B00LNOKBYW     5.0  1406073600\n",
       "2023062  A3MQDRRGC9070R  B00LNOKBYW     5.0  1405987200\n",
       "2023063  A2LB743IV4NS2W  B00LNOKBYW     5.0  1405555200\n",
       "2023064  A1YSYUGR6XRMIW  B00LNOKBYW     5.0  1405382400\n",
       "2023065  A3DEHKPFANB8VA  B00LORWRJA     5.0  1405296000\n",
       "2023066  A3DEHKPFANB8VA  B00LOS7MEE     5.0  1405296000\n",
       "2023067   AG9TJLJUN5OM3  B00LP2YB8E     5.0  1405382400\n",
       "2023068   AYBIB14QOI9PC  B00LPVG6V0     5.0  1405555200\n",
       "2023069  A1PB6OT0OOPKNQ  B00LU0LTOU     5.0  1405641600"
      ]
     },
     "execution_count": 48,
     "metadata": {},
     "output_type": "execute_result"
    }
   ],
   "source": [
    "df.tail(30)"
   ]
  },
  {
   "cell_type": "code",
   "execution_count": 49,
   "metadata": {
    "colab": {
     "base_uri": "https://localhost:8080/",
     "height": 34
    },
    "colab_type": "code",
    "id": "4whyCHMGVmN2",
    "outputId": "e2b6498e-4494-4d28-ad0b-30619c3a9cdd"
   },
   "outputs": [
    {
     "data": {
      "text/plain": [
       "(2023070, 4)"
      ]
     },
     "execution_count": 49,
     "metadata": {},
     "output_type": "execute_result"
    }
   ],
   "source": [
    "df.shape"
   ]
  },
  {
   "cell_type": "code",
   "execution_count": 50,
   "metadata": {
    "colab": {
     "base_uri": "https://localhost:8080/",
     "height": 168
    },
    "colab_type": "code",
    "id": "STJW6vCyVn8y",
    "outputId": "25c31be6-6cfd-490f-c840-09af432aac74",
    "scrolled": false
   },
   "outputs": [
    {
     "name": "stdout",
     "output_type": "stream",
     "text": [
      "<class 'pandas.core.frame.DataFrame'>\n",
      "RangeIndex: 2023070 entries, 0 to 2023069\n",
      "Data columns (total 4 columns):\n",
      " #   Column     Dtype  \n",
      "---  ------     -----  \n",
      " 0   UserId     object \n",
      " 1   ProductId  object \n",
      " 2   Rating     float64\n",
      " 3   Timestamp  int64  \n",
      "dtypes: float64(1), int64(1), object(2)\n",
      "memory usage: 61.7+ MB\n"
     ]
    }
   ],
   "source": [
    "df.info()"
   ]
  },
  {
   "cell_type": "code",
   "execution_count": 51,
   "metadata": {
    "colab": {
     "base_uri": "https://localhost:8080/",
     "height": 284
    },
    "colab_type": "code",
    "id": "-2j0g-ozVpnx",
    "outputId": "97d5bc9f-77f6-4a96-9126-cedb8fa3809d",
    "scrolled": true
   },
   "outputs": [
    {
     "data": {
      "text/html": [
       "<div>\n",
       "<style scoped>\n",
       "    .dataframe tbody tr th:only-of-type {\n",
       "        vertical-align: middle;\n",
       "    }\n",
       "\n",
       "    .dataframe tbody tr th {\n",
       "        vertical-align: top;\n",
       "    }\n",
       "\n",
       "    .dataframe thead th {\n",
       "        text-align: right;\n",
       "    }\n",
       "</style>\n",
       "<table border=\"1\" class=\"dataframe\">\n",
       "  <thead>\n",
       "    <tr style=\"text-align: right;\">\n",
       "      <th></th>\n",
       "      <th>Rating</th>\n",
       "      <th>Timestamp</th>\n",
       "    </tr>\n",
       "  </thead>\n",
       "  <tbody>\n",
       "    <tr>\n",
       "      <th>count</th>\n",
       "      <td>2.023070e+06</td>\n",
       "      <td>2.023070e+06</td>\n",
       "    </tr>\n",
       "    <tr>\n",
       "      <th>mean</th>\n",
       "      <td>4.149036e+00</td>\n",
       "      <td>1.360389e+09</td>\n",
       "    </tr>\n",
       "    <tr>\n",
       "      <th>std</th>\n",
       "      <td>1.311505e+00</td>\n",
       "      <td>4.611860e+07</td>\n",
       "    </tr>\n",
       "    <tr>\n",
       "      <th>min</th>\n",
       "      <td>1.000000e+00</td>\n",
       "      <td>9.087552e+08</td>\n",
       "    </tr>\n",
       "    <tr>\n",
       "      <th>25%</th>\n",
       "      <td>4.000000e+00</td>\n",
       "      <td>1.350259e+09</td>\n",
       "    </tr>\n",
       "    <tr>\n",
       "      <th>50%</th>\n",
       "      <td>5.000000e+00</td>\n",
       "      <td>1.372810e+09</td>\n",
       "    </tr>\n",
       "    <tr>\n",
       "      <th>75%</th>\n",
       "      <td>5.000000e+00</td>\n",
       "      <td>1.391472e+09</td>\n",
       "    </tr>\n",
       "    <tr>\n",
       "      <th>max</th>\n",
       "      <td>5.000000e+00</td>\n",
       "      <td>1.406074e+09</td>\n",
       "    </tr>\n",
       "  </tbody>\n",
       "</table>\n",
       "</div>"
      ],
      "text/plain": [
       "             Rating     Timestamp\n",
       "count  2.023070e+06  2.023070e+06\n",
       "mean   4.149036e+00  1.360389e+09\n",
       "std    1.311505e+00  4.611860e+07\n",
       "min    1.000000e+00  9.087552e+08\n",
       "25%    4.000000e+00  1.350259e+09\n",
       "50%    5.000000e+00  1.372810e+09\n",
       "75%    5.000000e+00  1.391472e+09\n",
       "max    5.000000e+00  1.406074e+09"
      ]
     },
     "execution_count": 51,
     "metadata": {},
     "output_type": "execute_result"
    }
   ],
   "source": [
    "df.describe()"
   ]
  },
  {
   "cell_type": "code",
   "execution_count": 52,
   "metadata": {},
   "outputs": [
    {
     "name": "stdout",
     "output_type": "stream",
     "text": [
      "The minimum rating is: 1\n",
      "The maximum rating is: 5\n"
     ]
    }
   ],
   "source": [
    "# find minimum and maximum ratings\n",
    "print('The minimum rating is: %d' %(df['Rating'].min()))\n",
    "print('The maximum rating is: %d' %(df['Rating'].max()))"
   ]
  },
  {
   "cell_type": "code",
   "execution_count": 53,
   "metadata": {
    "colab": {
     "base_uri": "https://localhost:8080/",
     "height": 34
    },
    "colab_type": "code",
    "id": "QD5udUOZVrT_",
    "outputId": "d411dda2-1987-4902-d12c-430c18694d36",
    "scrolled": true
   },
   "outputs": [
    {
     "data": {
      "text/plain": [
       "False"
      ]
     },
     "execution_count": 53,
     "metadata": {},
     "output_type": "execute_result"
    }
   ],
   "source": [
    "df.isnull().values.any()"
   ]
  },
  {
   "cell_type": "code",
   "execution_count": 54,
   "metadata": {
    "colab": {
     "base_uri": "https://localhost:8080/",
     "height": 892
    },
    "colab_type": "code",
    "id": "N9ZN3UpFVsx7",
    "outputId": "c38c555f-2a08-4181-fb35-ba6651f3293e"
   },
   "outputs": [
    {
     "data": {
      "image/png": "[encoded data removed]",
      "text/plain": [
       "<Figure size 2520x720 with 2 Axes>"
      ]
     },
     "metadata": {
      "needs_background": "light"
     },
     "output_type": "display_data"
    }
   ],
   "source": [
    "df.hist(figsize=(35, 10))\n",
    "plt.show()"
   ]
  },
  {
   "cell_type": "code",
   "execution_count": 55,
   "metadata": {
    "colab": {
     "base_uri": "https://localhost:8080/",
     "height": 269
    },
    "colab_type": "code",
    "id": "TjdDS2tlVuO4",
    "outputId": "62cf1d8e-5144-44b3-94c7-e65675babc43"
   },
   "outputs": [
    {
     "data": {
      "text/plain": [
       "<AxesSubplot:ylabel='Rating'>"
      ]
     },
     "execution_count": 55,
     "metadata": {},
     "output_type": "execute_result"
    },
    {
     "data": {
      "image/png": "[encoded data removed]",
      "text/plain": [
       "<Figure size 432x288 with 1 Axes>"
      ]
     },
     "metadata": {
      "needs_background": "light"
     },
     "output_type": "display_data"
    }
   ],
   "source": [
    "sns.boxplot(y='Rating',data=df)"
   ]
  },
  {
   "cell_type": "code",
   "execution_count": 57,
   "metadata": {
    "colab": {
     "base_uri": "https://localhost:8080/",
     "height": 280
    },
    "colab_type": "code",
    "id": "EJ539DFEVyXA",
    "outputId": "c263daea-d489-4fe8-f0e9-b1728f7f36bb",
    "scrolled": true
   },
   "outputs": [
    {
     "data": {
      "text/plain": [
       "<AxesSubplot:ylabel='Timestamp'>"
      ]
     },
     "execution_count": 57,
     "metadata": {},
     "output_type": "execute_result"
    },
    {
     "data": {
      "image/png": "[encoded data removed]",
      "text/plain": [
       "<Figure size 432x288 with 1 Axes>"
      ]
     },
     "metadata": {
      "needs_background": "light"
     },
     "output_type": "display_data"
    }
   ],
   "source": [
    "sns.boxplot(y='Timestamp',data=df)"
   ]
  },
  {
   "cell_type": "code",
   "execution_count": 58,
   "metadata": {},
   "outputs": [
    {
     "data": {
      "image/png": "[encoded data removed]",
      "text/plain": [
       "<Figure size 720x360 with 1 Axes>"
      ]
     },
     "metadata": {},
     "output_type": "display_data"
    }
   ],
   "source": [
    "# check the Rating distribution in the range 1-5 for the Data given \n",
    "\n",
    "with sns.axes_style('white'):\n",
    "    g = sns.factorplot(\"Rating\", data=df, aspect=2.0,kind='count')\n",
    "    g.set_ylabels(\"Total number of ratings\")"
   ]
  },
  {
   "cell_type": "code",
   "execution_count": 60,
   "metadata": {},
   "outputs": [
    {
     "name": "stdout",
     "output_type": "stream",
     "text": [
      "Total data \n",
      "**************************************************\n",
      "\n",
      "Total no of ratings : 2023070\n",
      "Total No of Users   : 1210271\n",
      "Total No of products  : 249274\n"
     ]
    }
   ],
   "source": [
    "# Summary of the data\n",
    "print(\"Total data \")\n",
    "print(\"*\"*50)\n",
    "print(\"\\nTotal no of ratings :\",df.shape[0])\n",
    "print(\"Total No of Users   :\", len(np.unique(df.UserId)))\n",
    "print(\"Total No of products  :\", len(np.unique(df.ProductId)))"
   ]
  },
  {
   "cell_type": "markdown",
   "metadata": {
    "colab_type": "text",
    "id": "yJDCsiluFpoz"
   },
   "source": [
    "**Take subset of data by filtering for users who have given more than 50 reviews to avoid working with large dataset**"
   ]
  },
  {
   "cell_type": "code",
   "execution_count": 61,
   "metadata": {
    "colab": {
     "base_uri": "https://localhost:8080/",
     "height": 935
    },
    "colab_type": "code",
    "id": "yHbPIqJHWm-z",
    "outputId": "d03ce0d7-83a0-4819-c8b6-591de6471a84"
   },
   "outputs": [
    {
     "data": {
      "text/html": [
       "<div>\n",
       "<style scoped>\n",
       "    .dataframe tbody tr th:only-of-type {\n",
       "        vertical-align: middle;\n",
       "    }\n",
       "\n",
       "    .dataframe tbody tr th {\n",
       "        vertical-align: top;\n",
       "    }\n",
       "\n",
       "    .dataframe thead th {\n",
       "        text-align: right;\n",
       "    }\n",
       "</style>\n",
       "<table border=\"1\" class=\"dataframe\">\n",
       "  <thead>\n",
       "    <tr style=\"text-align: right;\">\n",
       "      <th></th>\n",
       "      <th>UserId</th>\n",
       "      <th>ProductId</th>\n",
       "      <th>Rating</th>\n",
       "      <th>Timestamp</th>\n",
       "    </tr>\n",
       "  </thead>\n",
       "  <tbody>\n",
       "    <tr>\n",
       "      <th>5</th>\n",
       "      <td>AKJHHD5VEH7VG</td>\n",
       "      <td>0762451459</td>\n",
       "      <td>5.0</td>\n",
       "      <td>1404518400</td>\n",
       "    </tr>\n",
       "    <tr>\n",
       "      <th>42</th>\n",
       "      <td>A22ZFXQE8AWPEP</td>\n",
       "      <td>1304482596</td>\n",
       "      <td>1.0</td>\n",
       "      <td>1383177600</td>\n",
       "    </tr>\n",
       "    <tr>\n",
       "      <th>47</th>\n",
       "      <td>A22ZFXQE8AWPEP</td>\n",
       "      <td>1304482685</td>\n",
       "      <td>1.0</td>\n",
       "      <td>1383177600</td>\n",
       "    </tr>\n",
       "    <tr>\n",
       "      <th>52</th>\n",
       "      <td>A22ZFXQE8AWPEP</td>\n",
       "      <td>1304495396</td>\n",
       "      <td>1.0</td>\n",
       "      <td>1384992000</td>\n",
       "    </tr>\n",
       "    <tr>\n",
       "      <th>61</th>\n",
       "      <td>A22ZFXQE8AWPEP</td>\n",
       "      <td>1304511111</td>\n",
       "      <td>1.0</td>\n",
       "      <td>1384992000</td>\n",
       "    </tr>\n",
       "    <tr>\n",
       "      <th>66</th>\n",
       "      <td>A22ZFXQE8AWPEP</td>\n",
       "      <td>1304511138</td>\n",
       "      <td>1.0</td>\n",
       "      <td>1384992000</td>\n",
       "    </tr>\n",
       "    <tr>\n",
       "      <th>86</th>\n",
       "      <td>A22ZFXQE8AWPEP</td>\n",
       "      <td>1304622665</td>\n",
       "      <td>1.0</td>\n",
       "      <td>1386028800</td>\n",
       "    </tr>\n",
       "    <tr>\n",
       "      <th>87</th>\n",
       "      <td>A22ZFXQE8AWPEP</td>\n",
       "      <td>1304624498</td>\n",
       "      <td>1.0</td>\n",
       "      <td>1385683200</td>\n",
       "    </tr>\n",
       "    <tr>\n",
       "      <th>92</th>\n",
       "      <td>A22ZFXQE8AWPEP</td>\n",
       "      <td>1304651029</td>\n",
       "      <td>1.0</td>\n",
       "      <td>1386028800</td>\n",
       "    </tr>\n",
       "    <tr>\n",
       "      <th>102</th>\n",
       "      <td>A22ZFXQE8AWPEP</td>\n",
       "      <td>130466578X</td>\n",
       "      <td>1.0</td>\n",
       "      <td>1386028800</td>\n",
       "    </tr>\n",
       "    <tr>\n",
       "      <th>184</th>\n",
       "      <td>ACZ94JB8BFMJ9</td>\n",
       "      <td>5357954771</td>\n",
       "      <td>5.0</td>\n",
       "      <td>1385251200</td>\n",
       "    </tr>\n",
       "    <tr>\n",
       "      <th>302</th>\n",
       "      <td>A1Q3W2FX8LKH19</td>\n",
       "      <td>6162751473</td>\n",
       "      <td>5.0</td>\n",
       "      <td>1392681600</td>\n",
       "    </tr>\n",
       "    <tr>\n",
       "      <th>644</th>\n",
       "      <td>A9MYCYZT8EMMX</td>\n",
       "      <td>9788071198</td>\n",
       "      <td>5.0</td>\n",
       "      <td>1374537600</td>\n",
       "    </tr>\n",
       "    <tr>\n",
       "      <th>772</th>\n",
       "      <td>A1QV5IH6HDRN0L</td>\n",
       "      <td>9788072216</td>\n",
       "      <td>5.0</td>\n",
       "      <td>1316390400</td>\n",
       "    </tr>\n",
       "    <tr>\n",
       "      <th>896</th>\n",
       "      <td>A3KEZLJ59C1JVH</td>\n",
       "      <td>9788073476</td>\n",
       "      <td>5.0</td>\n",
       "      <td>1335916800</td>\n",
       "    </tr>\n",
       "    <tr>\n",
       "      <th>917</th>\n",
       "      <td>A24N4FKHGD7DWT</td>\n",
       "      <td>9788073840</td>\n",
       "      <td>2.0</td>\n",
       "      <td>1341187200</td>\n",
       "    </tr>\n",
       "    <tr>\n",
       "      <th>966</th>\n",
       "      <td>A3KEZLJ59C1JVH</td>\n",
       "      <td>9788074421</td>\n",
       "      <td>5.0</td>\n",
       "      <td>1351296000</td>\n",
       "    </tr>\n",
       "    <tr>\n",
       "      <th>980</th>\n",
       "      <td>A37J8XKLNOX2RO</td>\n",
       "      <td>9788075681</td>\n",
       "      <td>5.0</td>\n",
       "      <td>1386374400</td>\n",
       "    </tr>\n",
       "    <tr>\n",
       "      <th>1026</th>\n",
       "      <td>A32ZIX6JXPJX3O</td>\n",
       "      <td>9788081053</td>\n",
       "      <td>4.0</td>\n",
       "      <td>1362009600</td>\n",
       "    </tr>\n",
       "    <tr>\n",
       "      <th>1030</th>\n",
       "      <td>AB24Z8PTNQ33I</td>\n",
       "      <td>9789820615</td>\n",
       "      <td>4.0</td>\n",
       "      <td>1402704000</td>\n",
       "    </tr>\n",
       "    <tr>\n",
       "      <th>1266</th>\n",
       "      <td>A2XKJ1KX6XUHYP</td>\n",
       "      <td>9790778309</td>\n",
       "      <td>1.0</td>\n",
       "      <td>1403740800</td>\n",
       "    </tr>\n",
       "    <tr>\n",
       "      <th>1407</th>\n",
       "      <td>A32ZIX6JXPJX3O</td>\n",
       "      <td>9790781687</td>\n",
       "      <td>4.0</td>\n",
       "      <td>1367798400</td>\n",
       "    </tr>\n",
       "    <tr>\n",
       "      <th>1486</th>\n",
       "      <td>A3ESTWDBNOUJQ7</td>\n",
       "      <td>979078354X</td>\n",
       "      <td>5.0</td>\n",
       "      <td>1395705600</td>\n",
       "    </tr>\n",
       "    <tr>\n",
       "      <th>1571</th>\n",
       "      <td>A2C58G8O40YC7T</td>\n",
       "      <td>9790786948</td>\n",
       "      <td>4.0</td>\n",
       "      <td>1313798400</td>\n",
       "    </tr>\n",
       "    <tr>\n",
       "      <th>1638</th>\n",
       "      <td>A21936E2ZRY72J</td>\n",
       "      <td>9790789513</td>\n",
       "      <td>5.0</td>\n",
       "      <td>1369008000</td>\n",
       "    </tr>\n",
       "    <tr>\n",
       "      <th>1717</th>\n",
       "      <td>A2FQZKL2KIZACO</td>\n",
       "      <td>9790790961</td>\n",
       "      <td>5.0</td>\n",
       "      <td>1394496000</td>\n",
       "    </tr>\n",
       "    <tr>\n",
       "      <th>1745</th>\n",
       "      <td>A3TYR1ALBZ2EU9</td>\n",
       "      <td>9790790961</td>\n",
       "      <td>5.0</td>\n",
       "      <td>1378598400</td>\n",
       "    </tr>\n",
       "    <tr>\n",
       "      <th>1818</th>\n",
       "      <td>A1CI63P473W5RJ</td>\n",
       "      <td>9790792220</td>\n",
       "      <td>5.0</td>\n",
       "      <td>1358035200</td>\n",
       "    </tr>\n",
       "    <tr>\n",
       "      <th>1881</th>\n",
       "      <td>A3R9H6OKZHHRJD</td>\n",
       "      <td>9790794231</td>\n",
       "      <td>4.0</td>\n",
       "      <td>1402185600</td>\n",
       "    </tr>\n",
       "    <tr>\n",
       "      <th>1945</th>\n",
       "      <td>A3GU3CXHONZJQ6</td>\n",
       "      <td>979079634X</td>\n",
       "      <td>5.0</td>\n",
       "      <td>1330992000</td>\n",
       "    </tr>\n",
       "  </tbody>\n",
       "</table>\n",
       "</div>"
      ],
      "text/plain": [
       "              UserId   ProductId  Rating   Timestamp\n",
       "5      AKJHHD5VEH7VG  0762451459     5.0  1404518400\n",
       "42    A22ZFXQE8AWPEP  1304482596     1.0  1383177600\n",
       "47    A22ZFXQE8AWPEP  1304482685     1.0  1383177600\n",
       "52    A22ZFXQE8AWPEP  1304495396     1.0  1384992000\n",
       "61    A22ZFXQE8AWPEP  1304511111     1.0  1384992000\n",
       "66    A22ZFXQE8AWPEP  1304511138     1.0  1384992000\n",
       "86    A22ZFXQE8AWPEP  1304622665     1.0  1386028800\n",
       "87    A22ZFXQE8AWPEP  1304624498     1.0  1385683200\n",
       "92    A22ZFXQE8AWPEP  1304651029     1.0  1386028800\n",
       "102   A22ZFXQE8AWPEP  130466578X     1.0  1386028800\n",
       "184    ACZ94JB8BFMJ9  5357954771     5.0  1385251200\n",
       "302   A1Q3W2FX8LKH19  6162751473     5.0  1392681600\n",
       "644    A9MYCYZT8EMMX  9788071198     5.0  1374537600\n",
       "772   A1QV5IH6HDRN0L  9788072216     5.0  1316390400\n",
       "896   A3KEZLJ59C1JVH  9788073476     5.0  1335916800\n",
       "917   A24N4FKHGD7DWT  9788073840     2.0  1341187200\n",
       "966   A3KEZLJ59C1JVH  9788074421     5.0  1351296000\n",
       "980   A37J8XKLNOX2RO  9788075681     5.0  1386374400\n",
       "1026  A32ZIX6JXPJX3O  9788081053     4.0  1362009600\n",
       "1030   AB24Z8PTNQ33I  9789820615     4.0  1402704000\n",
       "1266  A2XKJ1KX6XUHYP  9790778309     1.0  1403740800\n",
       "1407  A32ZIX6JXPJX3O  9790781687     4.0  1367798400\n",
       "1486  A3ESTWDBNOUJQ7  979078354X     5.0  1395705600\n",
       "1571  A2C58G8O40YC7T  9790786948     4.0  1313798400\n",
       "1638  A21936E2ZRY72J  9790789513     5.0  1369008000\n",
       "1717  A2FQZKL2KIZACO  9790790961     5.0  1394496000\n",
       "1745  A3TYR1ALBZ2EU9  9790790961     5.0  1378598400\n",
       "1818  A1CI63P473W5RJ  9790792220     5.0  1358035200\n",
       "1881  A3R9H6OKZHHRJD  9790794231     4.0  1402185600\n",
       "1945  A3GU3CXHONZJQ6  979079634X     5.0  1330992000"
      ]
     },
     "execution_count": 61,
     "metadata": {},
     "output_type": "execute_result"
    }
   ],
   "source": [
    "counts=df['UserId'].value_counts()\n",
    "df1=df[df['UserId'].isin(counts[counts>=50].index)]\n",
    "df1.head(30)"
   ]
  },
  {
   "cell_type": "code",
   "execution_count": 62,
   "metadata": {
    "colab": {
     "base_uri": "https://localhost:8080/",
     "height": 34
    },
    "colab_type": "code",
    "id": "VjnyHXyZWpNV",
    "outputId": "497e4326-9db0-46eb-f3c2-d0feefa7c8b6"
   },
   "outputs": [
    {
     "data": {
      "text/plain": [
       "(29559, 4)"
      ]
     },
     "execution_count": 62,
     "metadata": {},
     "output_type": "execute_result"
    }
   ],
   "source": [
    "df1.shape"
   ]
  },
  {
   "cell_type": "markdown",
   "metadata": {
    "colab_type": "text",
    "id": "hf8iqEwBF4vn"
   },
   "source": [
    "# **Popularity based filtering based on Product's ratings**"
   ]
  },
  {
   "cell_type": "code",
   "execution_count": 64,
   "metadata": {
    "colab": {
     "base_uri": "https://localhost:8080/",
     "height": 225
    },
    "colab_type": "code",
    "id": "s8YE_Ls2Wsg0",
    "outputId": "354804a8-9e35-4b2c-d8f7-0b0c7c975637"
   },
   "outputs": [
    {
     "data": {
      "text/html": [
       "<div>\n",
       "<style scoped>\n",
       "    .dataframe tbody tr th:only-of-type {\n",
       "        vertical-align: middle;\n",
       "    }\n",
       "\n",
       "    .dataframe tbody tr th {\n",
       "        vertical-align: top;\n",
       "    }\n",
       "\n",
       "    .dataframe thead th {\n",
       "        text-align: right;\n",
       "    }\n",
       "</style>\n",
       "<table border=\"1\" class=\"dataframe\">\n",
       "  <thead>\n",
       "    <tr style=\"text-align: right;\">\n",
       "      <th></th>\n",
       "      <th>Rating</th>\n",
       "      <th>product_rating_counts</th>\n",
       "    </tr>\n",
       "    <tr>\n",
       "      <th>ProductId</th>\n",
       "      <th></th>\n",
       "      <th></th>\n",
       "    </tr>\n",
       "  </thead>\n",
       "  <tbody>\n",
       "    <tr>\n",
       "      <th>0762451459</th>\n",
       "      <td>5.0</td>\n",
       "      <td>1</td>\n",
       "    </tr>\n",
       "    <tr>\n",
       "      <th>1304482596</th>\n",
       "      <td>1.0</td>\n",
       "      <td>1</td>\n",
       "    </tr>\n",
       "    <tr>\n",
       "      <th>1304482685</th>\n",
       "      <td>1.0</td>\n",
       "      <td>1</td>\n",
       "    </tr>\n",
       "    <tr>\n",
       "      <th>1304495396</th>\n",
       "      <td>1.0</td>\n",
       "      <td>1</td>\n",
       "    </tr>\n",
       "    <tr>\n",
       "      <th>1304511111</th>\n",
       "      <td>1.0</td>\n",
       "      <td>1</td>\n",
       "    </tr>\n",
       "  </tbody>\n",
       "</table>\n",
       "</div>"
      ],
      "text/plain": [
       "            Rating  product_rating_counts\n",
       "ProductId                                \n",
       "0762451459     5.0                      1\n",
       "1304482596     1.0                      1\n",
       "1304482685     1.0                      1\n",
       "1304495396     1.0                      1\n",
       "1304511111     1.0                      1"
      ]
     },
     "execution_count": 64,
     "metadata": {},
     "output_type": "execute_result"
    }
   ],
   "source": [
    "products_df = pd.DataFrame(df1.groupby('ProductId')['Rating'].mean())\n",
    "products_df['product_rating_counts'] = pd.DataFrame(df1.groupby('ProductId')['Rating'].count())\n",
    "products_df.head()"
   ]
  },
  {
   "cell_type": "code",
   "execution_count": 65,
   "metadata": {
    "colab": {
     "base_uri": "https://localhost:8080/",
     "height": 225
    },
    "colab_type": "code",
    "id": "r_3mcoyTYUnp",
    "outputId": "4b85335f-1f33-4210-bab3-d1df600540dc"
   },
   "outputs": [
    {
     "data": {
      "text/html": [
       "<div>\n",
       "<style scoped>\n",
       "    .dataframe tbody tr th:only-of-type {\n",
       "        vertical-align: middle;\n",
       "    }\n",
       "\n",
       "    .dataframe tbody tr th {\n",
       "        vertical-align: top;\n",
       "    }\n",
       "\n",
       "    .dataframe thead th {\n",
       "        text-align: right;\n",
       "    }\n",
       "</style>\n",
       "<table border=\"1\" class=\"dataframe\">\n",
       "  <thead>\n",
       "    <tr style=\"text-align: right;\">\n",
       "      <th></th>\n",
       "      <th>Rating</th>\n",
       "      <th>product_rating_counts</th>\n",
       "    </tr>\n",
       "    <tr>\n",
       "      <th>ProductId</th>\n",
       "      <th></th>\n",
       "      <th></th>\n",
       "    </tr>\n",
       "  </thead>\n",
       "  <tbody>\n",
       "    <tr>\n",
       "      <th>0762451459</th>\n",
       "      <td>5.0</td>\n",
       "      <td>1</td>\n",
       "    </tr>\n",
       "    <tr>\n",
       "      <th>B004JAZGOC</th>\n",
       "      <td>5.0</td>\n",
       "      <td>1</td>\n",
       "    </tr>\n",
       "    <tr>\n",
       "      <th>B004ITB3IW</th>\n",
       "      <td>5.0</td>\n",
       "      <td>6</td>\n",
       "    </tr>\n",
       "    <tr>\n",
       "      <th>B004ITYX52</th>\n",
       "      <td>5.0</td>\n",
       "      <td>1</td>\n",
       "    </tr>\n",
       "    <tr>\n",
       "      <th>B004IVM0EG</th>\n",
       "      <td>5.0</td>\n",
       "      <td>1</td>\n",
       "    </tr>\n",
       "  </tbody>\n",
       "</table>\n",
       "</div>"
      ],
      "text/plain": [
       "            Rating  product_rating_counts\n",
       "ProductId                                \n",
       "0762451459     5.0                      1\n",
       "B004JAZGOC     5.0                      1\n",
       "B004ITB3IW     5.0                      6\n",
       "B004ITYX52     5.0                      1\n",
       "B004IVM0EG     5.0                      1"
      ]
     },
     "execution_count": 65,
     "metadata": {},
     "output_type": "execute_result"
    }
   ],
   "source": [
    "products_df.sort_values('Rating', ascending=False).head()"
   ]
  },
  {
   "cell_type": "code",
   "execution_count": 66,
   "metadata": {
    "colab": {
     "base_uri": "https://localhost:8080/",
     "height": 225
    },
    "colab_type": "code",
    "id": "wAqvba1BXFkF",
    "outputId": "e4bb857d-1217-44cb-e440-7c34f2d5a4e4"
   },
   "outputs": [
    {
     "data": {
      "text/html": [
       "<div>\n",
       "<style scoped>\n",
       "    .dataframe tbody tr th:only-of-type {\n",
       "        vertical-align: middle;\n",
       "    }\n",
       "\n",
       "    .dataframe tbody tr th {\n",
       "        vertical-align: top;\n",
       "    }\n",
       "\n",
       "    .dataframe thead th {\n",
       "        text-align: right;\n",
       "    }\n",
       "</style>\n",
       "<table border=\"1\" class=\"dataframe\">\n",
       "  <thead>\n",
       "    <tr style=\"text-align: right;\">\n",
       "      <th></th>\n",
       "      <th>Rating</th>\n",
       "      <th>product_rating_counts</th>\n",
       "    </tr>\n",
       "    <tr>\n",
       "      <th>ProductId</th>\n",
       "      <th></th>\n",
       "      <th></th>\n",
       "    </tr>\n",
       "  </thead>\n",
       "  <tbody>\n",
       "    <tr>\n",
       "      <th>B009FKNGGQ</th>\n",
       "      <td>3.816667</td>\n",
       "      <td>60</td>\n",
       "    </tr>\n",
       "    <tr>\n",
       "      <th>B00AE0790U</th>\n",
       "      <td>4.140351</td>\n",
       "      <td>57</td>\n",
       "    </tr>\n",
       "    <tr>\n",
       "      <th>B009FKNGRA</th>\n",
       "      <td>4.340426</td>\n",
       "      <td>47</td>\n",
       "    </tr>\n",
       "    <tr>\n",
       "      <th>B00AO4EBOI</th>\n",
       "      <td>4.152174</td>\n",
       "      <td>46</td>\n",
       "    </tr>\n",
       "    <tr>\n",
       "      <th>B008U2Y9BQ</th>\n",
       "      <td>4.108696</td>\n",
       "      <td>46</td>\n",
       "    </tr>\n",
       "  </tbody>\n",
       "</table>\n",
       "</div>"
      ],
      "text/plain": [
       "              Rating  product_rating_counts\n",
       "ProductId                                  \n",
       "B009FKNGGQ  3.816667                     60\n",
       "B00AE0790U  4.140351                     57\n",
       "B009FKNGRA  4.340426                     47\n",
       "B00AO4EBOI  4.152174                     46\n",
       "B008U2Y9BQ  4.108696                     46"
      ]
     },
     "execution_count": 66,
     "metadata": {},
     "output_type": "execute_result"
    }
   ],
   "source": [
    "products_df.sort_values('product_rating_counts', ascending=False).head()"
   ]
  },
  {
   "cell_type": "markdown",
   "metadata": {
    "colab_type": "text",
    "id": "Avv3zwrWGIE6"
   },
   "source": [
    "# **Popularity based filtering based on User's ratings**"
   ]
  },
  {
   "cell_type": "code",
   "execution_count": 67,
   "metadata": {
    "colab": {
     "base_uri": "https://localhost:8080/",
     "height": 225
    },
    "colab_type": "code",
    "id": "CT8-Eem_Z4ea",
    "outputId": "098d96da-e4c5-4b0c-8da5-d997f970d1be"
   },
   "outputs": [
    {
     "data": {
      "text/html": [
       "<div>\n",
       "<style scoped>\n",
       "    .dataframe tbody tr th:only-of-type {\n",
       "        vertical-align: middle;\n",
       "    }\n",
       "\n",
       "    .dataframe tbody tr th {\n",
       "        vertical-align: top;\n",
       "    }\n",
       "\n",
       "    .dataframe thead th {\n",
       "        text-align: right;\n",
       "    }\n",
       "</style>\n",
       "<table border=\"1\" class=\"dataframe\">\n",
       "  <thead>\n",
       "    <tr style=\"text-align: right;\">\n",
       "      <th></th>\n",
       "      <th>Rating</th>\n",
       "      <th>user_rating_counts</th>\n",
       "    </tr>\n",
       "    <tr>\n",
       "      <th>UserId</th>\n",
       "      <th></th>\n",
       "      <th></th>\n",
       "    </tr>\n",
       "  </thead>\n",
       "  <tbody>\n",
       "    <tr>\n",
       "      <th>A100WO06OQR8BQ</th>\n",
       "      <td>3.592593</td>\n",
       "      <td>54</td>\n",
       "    </tr>\n",
       "    <tr>\n",
       "      <th>A1047EDJ84IMAS</th>\n",
       "      <td>4.317073</td>\n",
       "      <td>82</td>\n",
       "    </tr>\n",
       "    <tr>\n",
       "      <th>A10G136JEISLVR</th>\n",
       "      <td>3.426471</td>\n",
       "      <td>68</td>\n",
       "    </tr>\n",
       "    <tr>\n",
       "      <th>A10Y59HW4O47N0</th>\n",
       "      <td>4.711538</td>\n",
       "      <td>52</td>\n",
       "    </tr>\n",
       "    <tr>\n",
       "      <th>A110PQTEI6THU7</th>\n",
       "      <td>3.196429</td>\n",
       "      <td>56</td>\n",
       "    </tr>\n",
       "  </tbody>\n",
       "</table>\n",
       "</div>"
      ],
      "text/plain": [
       "                  Rating  user_rating_counts\n",
       "UserId                                      \n",
       "A100WO06OQR8BQ  3.592593                  54\n",
       "A1047EDJ84IMAS  4.317073                  82\n",
       "A10G136JEISLVR  3.426471                  68\n",
       "A10Y59HW4O47N0  4.711538                  52\n",
       "A110PQTEI6THU7  3.196429                  56"
      ]
     },
     "execution_count": 67,
     "metadata": {},
     "output_type": "execute_result"
    }
   ],
   "source": [
    "users_df = pd.DataFrame(df1.groupby('UserId')['Rating'].mean())\n",
    "users_df['user_rating_counts'] = pd.DataFrame(df1.groupby('UserId')['Rating'].count())\n",
    "users_df.head()"
   ]
  },
  {
   "cell_type": "code",
   "execution_count": 68,
   "metadata": {
    "colab": {
     "base_uri": "https://localhost:8080/",
     "height": 225
    },
    "colab_type": "code",
    "id": "2YH4CN_I47Y5",
    "outputId": "5abed3f8-b556-43cf-c265-29ff3f1b5ddb"
   },
   "outputs": [
    {
     "data": {
      "text/html": [
       "<div>\n",
       "<style scoped>\n",
       "    .dataframe tbody tr th:only-of-type {\n",
       "        vertical-align: middle;\n",
       "    }\n",
       "\n",
       "    .dataframe tbody tr th {\n",
       "        vertical-align: top;\n",
       "    }\n",
       "\n",
       "    .dataframe thead th {\n",
       "        text-align: right;\n",
       "    }\n",
       "</style>\n",
       "<table border=\"1\" class=\"dataframe\">\n",
       "  <thead>\n",
       "    <tr style=\"text-align: right;\">\n",
       "      <th></th>\n",
       "      <th>Rating</th>\n",
       "      <th>user_rating_counts</th>\n",
       "    </tr>\n",
       "    <tr>\n",
       "      <th>UserId</th>\n",
       "      <th></th>\n",
       "      <th></th>\n",
       "    </tr>\n",
       "  </thead>\n",
       "  <tbody>\n",
       "    <tr>\n",
       "      <th>AJGU56YG8G1DQ</th>\n",
       "      <td>5.000000</td>\n",
       "      <td>130</td>\n",
       "    </tr>\n",
       "    <tr>\n",
       "      <th>AAEVYY0PHQUUL</th>\n",
       "      <td>5.000000</td>\n",
       "      <td>60</td>\n",
       "    </tr>\n",
       "    <tr>\n",
       "      <th>A135SX8ESCQV9B</th>\n",
       "      <td>5.000000</td>\n",
       "      <td>52</td>\n",
       "    </tr>\n",
       "    <tr>\n",
       "      <th>ALEW5AUKCRWHN</th>\n",
       "      <td>5.000000</td>\n",
       "      <td>55</td>\n",
       "    </tr>\n",
       "    <tr>\n",
       "      <th>A1Q1Z7IR79G52A</th>\n",
       "      <td>4.985507</td>\n",
       "      <td>69</td>\n",
       "    </tr>\n",
       "  </tbody>\n",
       "</table>\n",
       "</div>"
      ],
      "text/plain": [
       "                  Rating  user_rating_counts\n",
       "UserId                                      \n",
       "AJGU56YG8G1DQ   5.000000                 130\n",
       "AAEVYY0PHQUUL   5.000000                  60\n",
       "A135SX8ESCQV9B  5.000000                  52\n",
       "ALEW5AUKCRWHN   5.000000                  55\n",
       "A1Q1Z7IR79G52A  4.985507                  69"
      ]
     },
     "execution_count": 68,
     "metadata": {},
     "output_type": "execute_result"
    }
   ],
   "source": [
    "users_df.sort_values('Rating', ascending=False).head()"
   ]
  },
  {
   "cell_type": "code",
   "execution_count": 69,
   "metadata": {
    "colab": {
     "base_uri": "https://localhost:8080/",
     "height": 225
    },
    "colab_type": "code",
    "id": "HKYzg98t46iP",
    "outputId": "9b361e6d-c174-4584-dfc7-3ae2fc25bd06"
   },
   "outputs": [
    {
     "data": {
      "text/html": [
       "<div>\n",
       "<style scoped>\n",
       "    .dataframe tbody tr th:only-of-type {\n",
       "        vertical-align: middle;\n",
       "    }\n",
       "\n",
       "    .dataframe tbody tr th {\n",
       "        vertical-align: top;\n",
       "    }\n",
       "\n",
       "    .dataframe thead th {\n",
       "        text-align: right;\n",
       "    }\n",
       "</style>\n",
       "<table border=\"1\" class=\"dataframe\">\n",
       "  <thead>\n",
       "    <tr style=\"text-align: right;\">\n",
       "      <th></th>\n",
       "      <th>Rating</th>\n",
       "      <th>user_rating_counts</th>\n",
       "    </tr>\n",
       "    <tr>\n",
       "      <th>UserId</th>\n",
       "      <th></th>\n",
       "      <th></th>\n",
       "    </tr>\n",
       "  </thead>\n",
       "  <tbody>\n",
       "    <tr>\n",
       "      <th>A3KEZLJ59C1JVH</th>\n",
       "      <td>3.704370</td>\n",
       "      <td>389</td>\n",
       "    </tr>\n",
       "    <tr>\n",
       "      <th>A281NPSIMI1C2R</th>\n",
       "      <td>4.791667</td>\n",
       "      <td>336</td>\n",
       "    </tr>\n",
       "    <tr>\n",
       "      <th>A3M174IC0VXOS2</th>\n",
       "      <td>4.414110</td>\n",
       "      <td>326</td>\n",
       "    </tr>\n",
       "    <tr>\n",
       "      <th>A2V5R832QCSOMX</th>\n",
       "      <td>4.417266</td>\n",
       "      <td>278</td>\n",
       "    </tr>\n",
       "    <tr>\n",
       "      <th>A3LJLRIZL38GG3</th>\n",
       "      <td>4.550725</td>\n",
       "      <td>276</td>\n",
       "    </tr>\n",
       "  </tbody>\n",
       "</table>\n",
       "</div>"
      ],
      "text/plain": [
       "                  Rating  user_rating_counts\n",
       "UserId                                      \n",
       "A3KEZLJ59C1JVH  3.704370                 389\n",
       "A281NPSIMI1C2R  4.791667                 336\n",
       "A3M174IC0VXOS2  4.414110                 326\n",
       "A2V5R832QCSOMX  4.417266                 278\n",
       "A3LJLRIZL38GG3  4.550725                 276"
      ]
     },
     "execution_count": 69,
     "metadata": {},
     "output_type": "execute_result"
    }
   ],
   "source": [
    "users_df.sort_values('user_rating_counts', ascending=False).head()"
   ]
  },
  {
   "cell_type": "markdown",
   "metadata": {
    "colab_type": "text",
    "id": "nWbekVA2GR18"
   },
   "source": [
    "# **Collaborative based filtering and get the scores for different models**"
   ]
  },
  {
   "cell_type": "code",
   "execution_count": 71,
   "metadata": {
    "colab": {
     "base_uri": "https://localhost:8080/",
     "height": 336
    },
    "colab_type": "code",
    "id": "5hJ3fXlhYpsh",
    "outputId": "42037cb7-0e6c-4354-9892-c107fbca4c5a"
   },
   "outputs": [
    {
     "name": "stdout",
     "output_type": "stream",
     "text": [
      "Evaluating RMSE, MAE of algorithm SVD on 5 split(s).\n",
      "\n",
      "                  Fold 1  Fold 2  Fold 3  Fold 4  Fold 5  Mean    Std     \n",
      "RMSE (testset)    1.0390  1.0432  1.0329  1.0287  1.0542  1.0396  0.0088  \n",
      "MAE (testset)     0.7918  0.7851  0.7889  0.7795  0.7893  0.7869  0.0043  \n",
      "Fit time          1.18    1.09    1.06    1.03    1.05    1.08    0.05    \n",
      "Test time         0.03    0.02    0.02    0.02    0.02    0.02    0.00    \n"
     ]
    },
    {
     "data": {
      "text/plain": [
       "{'test_rmse': array([1.03899821, 1.04319453, 1.03287939, 1.02868472, 1.05417268]),\n",
       " 'test_mae': array([0.79177561, 0.78509137, 0.78888079, 0.77950155, 0.78930788]),\n",
       " 'fit_time': (1.1752638816833496,\n",
       "  1.0898282527923584,\n",
       "  1.0565369129180908,\n",
       "  1.032517910003662,\n",
       "  1.0461971759796143),\n",
       " 'test_time': (0.026595115661621094,\n",
       "  0.024197816848754883,\n",
       "  0.022382259368896484,\n",
       "  0.023370027542114258,\n",
       "  0.022624969482421875)}"
      ]
     },
     "execution_count": 71,
     "metadata": {},
     "output_type": "execute_result"
    }
   ],
   "source": [
    "reader = Reader(rating_scale=(0.5,5))\n",
    "\n",
    "data = Dataset.load_from_df(df1[['UserId', 'ProductId', 'Rating']], reader)\n",
    "\n",
    "# Use the famous SVD algorithm.\n",
    "svd = SVD()\n",
    "\n",
    "# Run 5-fold cross-validation and print results.\n",
    "\n",
    "cross_validate(svd, data, measures=['RMSE', 'MAE'], cv=5, verbose=True)"
   ]
  },
  {
   "cell_type": "code",
   "execution_count": 72,
   "metadata": {
    "colab": {
     "base_uri": "https://localhost:8080/",
     "height": 67
    },
    "colab_type": "code",
    "id": "lKEooXM4ZZee",
    "outputId": "2c244c12-abd1-44da-f2e1-16630978b655"
   },
   "outputs": [
    {
     "name": "stdout",
     "output_type": "stream",
     "text": [
      "RMSE: 1.0279\n",
      "MAE:  0.7772\n"
     ]
    },
    {
     "data": {
      "text/plain": [
       "0.7771666262182314"
      ]
     },
     "execution_count": 72,
     "metadata": {},
     "output_type": "execute_result"
    }
   ],
   "source": [
    "# Split the data into 70% / 30%\n",
    "trainset, testset = train_test_split(data, test_size=.30)\n",
    "\n",
    "# Run SVD algorithm\n",
    "svd=SVD()\n",
    "\n",
    "#Build the model\n",
    "svd.fit(trainset)\n",
    "predictions=svd.test(testset)\n",
    "\n",
    "# Compute errors\n",
    "\n",
    "accuracy.rmse(predictions)\n",
    "accuracy.mae(predictions)"
   ]
  },
  {
   "cell_type": "code",
   "execution_count": 73,
   "metadata": {
    "colab": {
     "base_uri": "https://localhost:8080/",
     "height": 34
    },
    "colab_type": "code",
    "id": "5b9Cr-G4614r",
    "outputId": "0c3471ee-6887-4420-8f3b-36fc851c5bae"
   },
   "outputs": [
    {
     "name": "stdout",
     "output_type": "stream",
     "text": [
      "user: 150        item: 10000      r_ui = 4.00   est = 4.17   {'was_impossible': False}\n"
     ]
    }
   ],
   "source": [
    "#Define userid and productid in the string format as required\n",
    "\n",
    "uid=str(150)\n",
    "pid=str(10000)\n",
    "\n",
    "# Get predictions\n",
    "\n",
    "pred=svd.predict(uid, pid, r_ui=4, verbose=True)"
   ]
  },
  {
   "cell_type": "code",
   "execution_count": 74,
   "metadata": {
    "colab": {
     "base_uri": "https://localhost:8080/",
     "height": 50
    },
    "colab_type": "code",
    "id": "mAIfrUxlCvUy",
    "outputId": "f1482fca-d2ee-4250-f2c1-1a6accd24852"
   },
   "outputs": [
    {
     "name": "stdout",
     "output_type": "stream",
     "text": [
      "{'rmse': 1.0480972816846261, 'mae': 0.8147035686170631}\n",
      "{'rmse': {'n_epochs': 10, 'lr_all': 0.005, 'reg_all': 0.4}, 'mae': {'n_epochs': 10, 'lr_all': 0.005, 'reg_all': 0.4}}\n"
     ]
    }
   ],
   "source": [
    "\n",
    "param_grid = {\n",
    "    \"n_epochs\": [5, 10],\n",
    "    \"lr_all\": [0.002, 0.005],\n",
    "    \"reg_all\": [0.4, 0.6]\n",
    "}\n",
    "gs = GridSearchCV(SVD, param_grid, measures=[\"rmse\", \"mae\"], cv=3)\n",
    "\n",
    "gs.fit(data)\n",
    "\n",
    "print(gs.best_score)\n",
    "print(gs.best_params)"
   ]
  },
  {
   "cell_type": "code",
   "execution_count": 75,
   "metadata": {
    "colab": {
     "base_uri": "https://localhost:8080/",
     "height": 958
    },
    "colab_type": "code",
    "id": "GjVH1HEA8oyC",
    "outputId": "1c8ba114-83dd-4436-b8e2-97dbdfe48920"
   },
   "outputs": [
    {
     "name": "stdout",
     "output_type": "stream",
     "text": [
      "Computing the msd similarity matrix...\n",
      "Done computing similarity matrix.\n",
      "Computing the msd similarity matrix...\n",
      "Done computing similarity matrix.\n",
      "Computing the msd similarity matrix...\n",
      "Done computing similarity matrix.\n",
      "Computing the msd similarity matrix...\n",
      "Done computing similarity matrix.\n",
      "Computing the msd similarity matrix...\n",
      "Done computing similarity matrix.\n",
      "Computing the msd similarity matrix...\n",
      "Done computing similarity matrix.\n",
      "Computing the msd similarity matrix...\n",
      "Done computing similarity matrix.\n",
      "Computing the msd similarity matrix...\n",
      "Done computing similarity matrix.\n",
      "Computing the msd similarity matrix...\n",
      "Done computing similarity matrix.\n",
      "Computing the msd similarity matrix...\n",
      "Done computing similarity matrix.\n",
      "Computing the msd similarity matrix...\n",
      "Done computing similarity matrix.\n",
      "Computing the msd similarity matrix...\n",
      "Done computing similarity matrix.\n",
      "Computing the msd similarity matrix...\n",
      "Done computing similarity matrix.\n",
      "Computing the msd similarity matrix...\n",
      "Done computing similarity matrix.\n",
      "Computing the msd similarity matrix...\n",
      "Done computing similarity matrix.\n",
      "Computing the msd similarity matrix...\n",
      "Done computing similarity matrix.\n",
      "Computing the msd similarity matrix...\n",
      "Done computing similarity matrix.\n",
      "Computing the msd similarity matrix...\n",
      "Done computing similarity matrix.\n",
      "Computing the msd similarity matrix...\n",
      "Done computing similarity matrix.\n",
      "Computing the msd similarity matrix...\n",
      "Done computing similarity matrix.\n",
      "Computing the msd similarity matrix...\n",
      "Done computing similarity matrix.\n",
      "Computing the msd similarity matrix...\n",
      "Done computing similarity matrix.\n",
      "Computing the msd similarity matrix...\n",
      "Done computing similarity matrix.\n",
      "Computing the msd similarity matrix...\n",
      "Done computing similarity matrix.\n",
      "Computing the msd similarity matrix...\n",
      "Done computing similarity matrix.\n",
      "Computing the msd similarity matrix...\n",
      "Done computing similarity matrix.\n",
      "Computing the msd similarity matrix...\n",
      "Done computing similarity matrix.\n",
      "{'rmse': 1.1451100808001737, 'mae': 0.8994852266663346}\n",
      "{'rmse': {'min_k': 3, 'k': 10}, 'mae': {'min_k': 2, 'k': 10}}\n"
     ]
    }
   ],
   "source": [
    "# GridSearch with KNNbasic\n",
    "\n",
    "param_grid = {'min_k':[2,3,4], 'k':[5,10,20] }\n",
    "gs = GridSearchCV(KNNBasic, param_grid, measures=[\"rmse\", \"mae\"], cv=3)\n",
    "\n",
    "gs.fit(data)\n",
    "\n",
    "print(gs.best_score)\n",
    "print(gs.best_params)\n"
   ]
  }
 ],
 "metadata": {
  "accelerator": "GPU",
  "colab": {
   "collapsed_sections": [],
   "machine_shape": "hm",
   "name": "Kavitha_Assignment7_RS.ipynb",
   "provenance": []
  },
  "kernelspec": {
   "display_name": "Python 3",
   "language": "python",
   "name": "python3"
  },
  "language_info": {
   "codemirror_mode": {
    "name": "ipython",
    "version": 3
   },
   "file_extension": ".py",
   "mimetype": "text/x-python",
   "name": "python",
   "nbconvert_exporter": "python",
   "pygments_lexer": "ipython3",
   "version": "3.8.5"
  }
 },
 "nbformat": 4,
 "nbformat_minor": 4
}
